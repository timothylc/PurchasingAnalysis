{
 "cells": [
  {
   "cell_type": "markdown",
   "id": "e69edcd2",
   "metadata": {},
   "source": [
    "# Goals\n",
    "- Find the customer(s) who spent the most money\n",
    "- Find the biggest sales day of the week\n",
    "- Do all of the above while being aware of the space/time complexity\n",
    "\n",
    "# Dataset\n",
    "The original dataset, created by Rao Babar Ali, was found on Kaggle: https://www.kaggle.com/datasets/raosuny/e-commerce-purchase-dataset?resource=download. It contains customer data from a small online store throughout November 2018.\n",
    "\n"
   ]
  },
  {
   "cell_type": "code",
   "execution_count": 1,
   "id": "a7283462",
   "metadata": {
    "scrolled": true
   },
   "outputs": [
    {
     "data": {
      "text/html": [
       "<div>\n",
       "<style scoped>\n",
       "    .dataframe tbody tr th:only-of-type {\n",
       "        vertical-align: middle;\n",
       "    }\n",
       "\n",
       "    .dataframe tbody tr th {\n",
       "        vertical-align: top;\n",
       "    }\n",
       "\n",
       "    .dataframe thead th {\n",
       "        text-align: right;\n",
       "    }\n",
       "</style>\n",
       "<table border=\"1\" class=\"dataframe\">\n",
       "  <thead>\n",
       "    <tr style=\"text-align: right;\">\n",
       "      <th></th>\n",
       "      <th>date</th>\n",
       "      <th>customer_id</th>\n",
       "      <th>product_category</th>\n",
       "      <th>payment_method</th>\n",
       "      <th>value [USD]</th>\n",
       "      <th>time_on_site [Minutes]</th>\n",
       "      <th>clicks_in_site</th>\n",
       "    </tr>\n",
       "  </thead>\n",
       "  <tbody>\n",
       "    <tr>\n",
       "      <th>0</th>\n",
       "      <td>20/11/2018</td>\n",
       "      <td>37077</td>\n",
       "      <td>505</td>\n",
       "      <td>credit</td>\n",
       "      <td>49.53</td>\n",
       "      <td>12.0</td>\n",
       "      <td>8</td>\n",
       "    </tr>\n",
       "    <tr>\n",
       "      <th>1</th>\n",
       "      <td>20/11/2018</td>\n",
       "      <td>59173</td>\n",
       "      <td>509</td>\n",
       "      <td>paypal</td>\n",
       "      <td>50.61</td>\n",
       "      <td>25.9</td>\n",
       "      <td>8</td>\n",
       "    </tr>\n",
       "    <tr>\n",
       "      <th>2</th>\n",
       "      <td>20/11/2018</td>\n",
       "      <td>41066</td>\n",
       "      <td>507</td>\n",
       "      <td>credit</td>\n",
       "      <td>85.99</td>\n",
       "      <td>34.9</td>\n",
       "      <td>11</td>\n",
       "    </tr>\n",
       "    <tr>\n",
       "      <th>3</th>\n",
       "      <td>20/11/2018</td>\n",
       "      <td>50741</td>\n",
       "      <td>506</td>\n",
       "      <td>credit</td>\n",
       "      <td>34.60</td>\n",
       "      <td>16.5</td>\n",
       "      <td>9</td>\n",
       "    </tr>\n",
       "    <tr>\n",
       "      <th>4</th>\n",
       "      <td>20/11/2018</td>\n",
       "      <td>53639</td>\n",
       "      <td>515</td>\n",
       "      <td>paypal</td>\n",
       "      <td>266.27</td>\n",
       "      <td>43.1</td>\n",
       "      <td>30</td>\n",
       "    </tr>\n",
       "  </tbody>\n",
       "</table>\n",
       "</div>"
      ],
      "text/plain": [
       "         date  customer_id  product_category payment_method  value [USD]  \\\n",
       "0  20/11/2018        37077               505         credit        49.53   \n",
       "1  20/11/2018        59173               509         paypal        50.61   \n",
       "2  20/11/2018        41066               507         credit        85.99   \n",
       "3  20/11/2018        50741               506         credit        34.60   \n",
       "4  20/11/2018        53639               515         paypal       266.27   \n",
       "\n",
       "   time_on_site [Minutes]  clicks_in_site  \n",
       "0                    12.0               8  \n",
       "1                    25.9               8  \n",
       "2                    34.9              11  \n",
       "3                    16.5               9  \n",
       "4                    43.1              30  "
      ]
     },
     "execution_count": 1,
     "metadata": {},
     "output_type": "execute_result"
    }
   ],
   "source": [
    "import pandas as pd\n",
    "\n",
    "df = pd.read_csv('purchase_data_exe.csv')\n",
    "df = df.drop(columns = 'Unnamed: 7')\n",
    "df.head()"
   ]
  },
  {
   "cell_type": "markdown",
   "id": "5fc0c761",
   "metadata": {},
   "source": [
    "## Finding the customer(s) who spent the most money in the dataset"
   ]
  },
  {
   "cell_type": "code",
   "execution_count": 2,
   "id": "9114ab1d",
   "metadata": {},
   "outputs": [
    {
     "name": "stdout",
     "output_type": "stream",
     "text": [
      "Customer 51660 spent the most on the E commerce store during November 2018, spending $2668.12.\n"
     ]
    }
   ],
   "source": [
    "df2 = df.groupby(['customer_id']).sum(numeric_only = True)\n",
    "#df2 = df2.drop(columns = ['product_category', 'time_on_site [Minutes]', 'clicks_in_site'])\n",
    "df2 = df2.sort_values(by=['value [USD]'], ascending = False)\n",
    "\n",
    "most_cust, most_val = df2['value [USD]'].idxmax(), df2['value [USD]'].max()\n",
    "\n",
    "print(f'Customer {most_cust} spent the most on the E commerce store during November 2018, spending ${most_val}.')\n"
   ]
  },
  {
   "cell_type": "code",
   "execution_count": 3,
   "id": "97941580",
   "metadata": {},
   "outputs": [
    {
     "name": "stdout",
     "output_type": "stream",
     "text": [
      "The top 5 highest spending customers:\n"
     ]
    },
    {
     "data": {
      "text/plain": [
       "customer_id\n",
       "51660    2668.12\n",
       "53213    2476.42\n",
       "36570    2297.75\n",
       "44868    2218.57\n",
       "47329    2106.99\n",
       "Name: value [USD], dtype: float64"
      ]
     },
     "execution_count": 3,
     "metadata": {},
     "output_type": "execute_result"
    }
   ],
   "source": [
    "print('The top 5 highest spending customers:')\n",
    "df2['value [USD]'].head()"
   ]
  },
  {
   "cell_type": "markdown",
   "id": "bbc505d8",
   "metadata": {},
   "source": [
    "## Find the biggest sales day of the week"
   ]
  },
  {
   "cell_type": "code",
   "execution_count": 4,
   "id": "8652b643",
   "metadata": {},
   "outputs": [
    {
     "name": "stderr",
     "output_type": "stream",
     "text": [
      "C:\\Users\\timmc\\AppData\\Local\\Temp\\ipykernel_13924\\2986107521.py:6: UserWarning: Parsing dates in DD/MM/YYYY format when dayfirst=False (the default) was specified. This may lead to inconsistently parsed dates! Specify a format to ensure consistent parsing.\n",
      "  da = pd.Timestamp(df.date.iloc[i])\n"
     ]
    }
   ],
   "source": [
    "import calendar \n",
    "from datetime import date\n",
    "\n",
    "day_of_week = []\n",
    "for i in range(len(df)):\n",
    "    da = pd.Timestamp(df.date.iloc[i])\n",
    "    day_of_week.append(da.day_name())\n",
    "\n",
    "day_of_week\n",
    "df['day_of_week'] = day_of_week\n"
   ]
  },
  {
   "cell_type": "code",
   "execution_count": 5,
   "id": "38e260b3",
   "metadata": {},
   "outputs": [
    {
     "name": "stdout",
     "output_type": "stream",
     "text": [
      "The biggest sales day of the week in November 2018 for the E commerce store was Friday.\n"
     ]
    }
   ],
   "source": [
    "df3 = df.groupby(['day_of_week']).sum(numeric_only = True)\n",
    "df3 = df3.sort_values(by=['value [USD]'], ascending = False)\n",
    "highest_day = df3['value [USD]'].idxmax()\n",
    "\n",
    "print(f\"The biggest sales day of the week in November 2018 for the E commerce store was {highest_day}.\")"
   ]
  },
  {
   "cell_type": "code",
   "execution_count": 6,
   "id": "78337bc6",
   "metadata": {},
   "outputs": [
    {
     "name": "stdout",
     "output_type": "stream",
     "text": [
      "The sales for each day of the week are as follows:\n"
     ]
    },
    {
     "data": {
      "text/plain": [
       "day_of_week\n",
       "Friday       1884586.16\n",
       "Thursday      792353.57\n",
       "Wednesday     780822.57\n",
       "Tuesday       768999.51\n",
       "Monday        400089.83\n",
       "Sunday        391050.31\n",
       "Saturday       63113.88\n",
       "Name: value [USD], dtype: float64"
      ]
     },
     "execution_count": 6,
     "metadata": {},
     "output_type": "execute_result"
    }
   ],
   "source": [
    "print(\"The sales for each day of the week are as follows:\")\n",
    "df3['value [USD]']"
   ]
  },
  {
   "cell_type": "code",
   "execution_count": 7,
   "id": "58eee4fe",
   "metadata": {},
   "outputs": [
    {
     "name": "stdout",
     "output_type": "stream",
     "text": [
      "The day with the most sales in November 2018 was the 23th, which was a Friday.\n"
     ]
    },
    {
     "name": "stderr",
     "output_type": "stream",
     "text": [
      "C:\\Users\\timmc\\AppData\\Local\\Temp\\ipykernel_13924\\2303377769.py:4: UserWarning: Parsing dates in DD/MM/YYYY format when dayfirst=False (the default) was specified. This may lead to inconsistently parsed dates! Specify a format to ensure consistent parsing.\n",
      "  hd = pd.Timestamp(highest_date)\n"
     ]
    }
   ],
   "source": [
    "df4 = df.groupby(['date']).sum(numeric_only = True)\n",
    "df4 = df4.sort_values(by=['value [USD]'], ascending = False)\n",
    "highest_date = df4['value [USD]'].idxmax()\n",
    "hd = pd.Timestamp(highest_date)\n",
    "print(f\"The day with the most sales in November 2018 was the {highest_date[0:2]}th, which was a {hd.day_name()}.\")"
   ]
  },
  {
   "cell_type": "code",
   "execution_count": 8,
   "id": "ccecdc86",
   "metadata": {},
   "outputs": [
    {
     "name": "stdout",
     "output_type": "stream",
     "text": [
      "{'Friday': 1, 'Monday': 1, 'Tuesday': 2, 'Sunday': 1, 'Thursday': 2, 'Wednesday': 2, 'Saturday': 1}\n",
      "23/11/2018    7292\n",
      "26/11/2018    2224\n",
      "20/11/2018    2211\n",
      "25/11/2018    2206\n",
      "22/11/2018    2195\n",
      "28/11/2018    2154\n",
      "27/11/2018    2119\n",
      "21/11/2018    2116\n",
      "29/11/2018    2116\n",
      "24/11/2018     366\n",
      "Name: date, dtype: int64\n"
     ]
    },
    {
     "name": "stderr",
     "output_type": "stream",
     "text": [
      "C:\\Users\\timmc\\AppData\\Local\\Temp\\ipykernel_13924\\3209535258.py:5: UserWarning: Parsing dates in DD/MM/YYYY format when dayfirst=False (the default) was specified. This may lead to inconsistently parsed dates! Specify a format to ensure consistent parsing.\n",
      "  day = pd.Timestamp(date)\n"
     ]
    }
   ],
   "source": [
    "import collections\n",
    "unique_dates = df.date.value_counts().index.tolist()\n",
    "dow = []\n",
    "for date in unique_dates:\n",
    "    day = pd.Timestamp(date)\n",
    "    dow.append(day.day_name())\n",
    "\n",
    "frequency = collections.Counter(dow)\n",
    "print(dict(frequency))\n",
    "print(df.date.value_counts())"
   ]
  },
  {
   "cell_type": "code",
   "execution_count": 33,
   "id": "5df15077",
   "metadata": {},
   "outputs": [
    {
     "data": {
      "image/png": "[encoded data removed]",
      "text/plain": [
       "<Figure size 640x480 with 1 Axes>"
      ]
     },
     "metadata": {},
     "output_type": "display_data"
    }
   ],
   "source": [
    "import matplotlib.pyplot as plt\n",
    "\n",
    "vals = dict(df['date'].value_counts())\n",
    "x = list(vals.keys())\n",
    "y = list(df.date.value_counts())\n",
    "\n",
    "plt.bar(x, y)\n",
    "plt.title(\"Amount of purchases per day\")\n",
    "plt.xlabel(\"Date\")\n",
    "plt.ylabel(\"Frequency\")\n",
    "_ = plt.xticks(rotation = 45)\n",
    "\n",
    "\n"
   ]
  },
  {
   "cell_type": "markdown",
   "id": "e2a298b0",
   "metadata": {},
   "source": [
    "Although there is only one day in the dataset that falls on a Friday, the amount of purchases that occurred on that single day are greater than the next 3 top-selling days combined; this means that this day could be an anamoly as most of the days (besides the 24th) are in the 2100-2200 range."
   ]
  }
 ],
 "metadata": {
  "kernelspec": {
   "display_name": "Python 3 (ipykernel)",
   "language": "python",
   "name": "python3"
  },
  "language_info": {
   "codemirror_mode": {
    "name": "ipython",
    "version": 3
   },
   "file_extension": ".py",
   "mimetype": "text/x-python",
   "name": "python",
   "nbconvert_exporter": "python",
   "pygments_lexer": "ipython3",
   "version": "3.11.1"
  }
 },
 "nbformat": 4,
 "nbformat_minor": 5
}
