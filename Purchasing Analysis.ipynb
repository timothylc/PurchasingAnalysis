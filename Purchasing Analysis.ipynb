{
 "cells": [
  {
   "cell_type": "markdown",
   "id": "e69edcd2",
   "metadata": {},
   "source": [
    "# Goals\n",
    "- Find the customer(s) who spent the most money\n",
    "- Find the biggest sales day of the week\n",
    "- Do all of the above while being aware of the space/time complexity\n",
    "\n",
    "# Dataset\n",
    "The original dataset, created by Rao Babar Ali, was found on Kaggle: https://www.kaggle.com/datasets/raosuny/e-commerce-purchase-dataset?resource=download\n"
   ]
  },
  {
   "cell_type": "code",
   "execution_count": 37,
   "id": "a7283462",
   "metadata": {},
   "outputs": [
    {
     "data": {
      "text/html": [
       "<div>\n",
       "<style scoped>\n",
       "    .dataframe tbody tr th:only-of-type {\n",
       "        vertical-align: middle;\n",
       "    }\n",
       "\n",
       "    .dataframe tbody tr th {\n",
       "        vertical-align: top;\n",
       "    }\n",
       "\n",
       "    .dataframe thead th {\n",
       "        text-align: right;\n",
       "    }\n",
       "</style>\n",
       "<table border=\"1\" class=\"dataframe\">\n",
       "  <thead>\n",
       "    <tr style=\"text-align: right;\">\n",
       "      <th></th>\n",
       "      <th>date</th>\n",
       "      <th>customer_id</th>\n",
       "      <th>product_category</th>\n",
       "      <th>payment_method</th>\n",
       "      <th>value [USD]</th>\n",
       "      <th>time_on_site [Minutes]</th>\n",
       "      <th>clicks_in_site</th>\n",
       "    </tr>\n",
       "  </thead>\n",
       "  <tbody>\n",
       "    <tr>\n",
       "      <th>0</th>\n",
       "      <td>20/11/2018</td>\n",
       "      <td>37077</td>\n",
       "      <td>505</td>\n",
       "      <td>credit</td>\n",
       "      <td>49.53</td>\n",
       "      <td>12.0</td>\n",
       "      <td>8</td>\n",
       "    </tr>\n",
       "    <tr>\n",
       "      <th>1</th>\n",
       "      <td>20/11/2018</td>\n",
       "      <td>59173</td>\n",
       "      <td>509</td>\n",
       "      <td>paypal</td>\n",
       "      <td>50.61</td>\n",
       "      <td>25.9</td>\n",
       "      <td>8</td>\n",
       "    </tr>\n",
       "    <tr>\n",
       "      <th>2</th>\n",
       "      <td>20/11/2018</td>\n",
       "      <td>41066</td>\n",
       "      <td>507</td>\n",
       "      <td>credit</td>\n",
       "      <td>85.99</td>\n",
       "      <td>34.9</td>\n",
       "      <td>11</td>\n",
       "    </tr>\n",
       "    <tr>\n",
       "      <th>3</th>\n",
       "      <td>20/11/2018</td>\n",
       "      <td>50741</td>\n",
       "      <td>506</td>\n",
       "      <td>credit</td>\n",
       "      <td>34.60</td>\n",
       "      <td>16.5</td>\n",
       "      <td>9</td>\n",
       "    </tr>\n",
       "    <tr>\n",
       "      <th>4</th>\n",
       "      <td>20/11/2018</td>\n",
       "      <td>53639</td>\n",
       "      <td>515</td>\n",
       "      <td>paypal</td>\n",
       "      <td>266.27</td>\n",
       "      <td>43.1</td>\n",
       "      <td>30</td>\n",
       "    </tr>\n",
       "  </tbody>\n",
       "</table>\n",
       "</div>"
      ],
      "text/plain": [
       "         date  customer_id  product_category payment_method  value [USD]  \\\n",
       "0  20/11/2018        37077               505         credit        49.53   \n",
       "1  20/11/2018        59173               509         paypal        50.61   \n",
       "2  20/11/2018        41066               507         credit        85.99   \n",
       "3  20/11/2018        50741               506         credit        34.60   \n",
       "4  20/11/2018        53639               515         paypal       266.27   \n",
       "\n",
       "   time_on_site [Minutes]  clicks_in_site  \n",
       "0                    12.0               8  \n",
       "1                    25.9               8  \n",
       "2                    34.9              11  \n",
       "3                    16.5               9  \n",
       "4                    43.1              30  "
      ]
     },
     "execution_count": 37,
     "metadata": {},
     "output_type": "execute_result"
    }
   ],
   "source": [
    "import pandas as pd\n",
    "\n",
    "df = pd.read_csv(r'Downloads\\purchase_data_exe.csv')\n",
    "df = df.drop(columns = 'Unnamed: 7')\n",
    "df.head()"
   ]
  },
  {
   "cell_type": "code",
   "execution_count": 38,
   "id": "707033d3",
   "metadata": {},
   "outputs": [
    {
     "name": "stderr",
     "output_type": "stream",
     "text": [
      "C:\\Users\\timmc\\AppData\\Local\\Temp\\ipykernel_18276\\2986107521.py:6: UserWarning: Parsing dates in DD/MM/YYYY format when dayfirst=False (the default) was specified. This may lead to inconsistently parsed dates! Specify a format to ensure consistent parsing.\n",
      "  da = pd.Timestamp(df.date.iloc[i])\n"
     ]
    }
   ],
   "source": [
    "import calendar \n",
    "from datetime import date\n",
    "\n",
    "day_of_week = []\n",
    "for i in range(len(df)):\n",
    "    da = pd.Timestamp(df.date.iloc[i])\n",
    "    day_of_week.append(da.day_name())\n",
    "\n",
    "day_of_week\n",
    "df['day_of_week'] = day_of_week\n"
   ]
  },
  {
   "cell_type": "code",
   "execution_count": 39,
   "id": "9114ab1d",
   "metadata": {},
   "outputs": [
    {
     "data": {
      "text/plain": [
       "date                      23/11/2018\n",
       "customer_id                    51660\n",
       "product_category                 503\n",
       "payment_method                credit\n",
       "value [USD]                  2177.04\n",
       "time_on_site [Minutes]         147.8\n",
       "clicks_in_site                    81\n",
       "day_of_week                   Friday\n",
       "Name: 10200, dtype: object"
      ]
     },
     "execution_count": 39,
     "metadata": {},
     "output_type": "execute_result"
    }
   ],
   "source": [
    "biggest_spender = df['value [USD]'].idxmax()\n",
    "df.iloc[biggest_spender]\n",
    "\n"
   ]
  },
  {
   "cell_type": "code",
   "execution_count": 70,
   "id": "97941580",
   "metadata": {},
   "outputs": [],
   "source": [
    "fre = df.customer_id.value_counts()\n",
    "fre = fre.tolist()\n",
    "for i in range(len(fre)):\n",
    "    if fre[i] == 1:\n",
    "        break\n",
    "\n",
    "ids = df.customer_id.value_counts().index.tolist()\n",
    "\n",
    "repeats = []\n",
    "for j in range(len(ids)):\n",
    "    if j == i:\n",
    "        break\n",
    "    repeats.append(ids[j])"
   ]
  },
  {
   "cell_type": "code",
   "execution_count": null,
   "id": "8652b643",
   "metadata": {},
   "outputs": [],
   "source": []
  }
 ],
 "metadata": {
  "kernelspec": {
   "display_name": "Python 3 (ipykernel)",
   "language": "python",
   "name": "python3"
  },
  "language_info": {
   "codemirror_mode": {
    "name": "ipython",
    "version": 3
   },
   "file_extension": ".py",
   "mimetype": "text/x-python",
   "name": "python",
   "nbconvert_exporter": "python",
   "pygments_lexer": "ipython3",
   "version": "3.11.1"
  }
 },
 "nbformat": 4,
 "nbformat_minor": 5
}
